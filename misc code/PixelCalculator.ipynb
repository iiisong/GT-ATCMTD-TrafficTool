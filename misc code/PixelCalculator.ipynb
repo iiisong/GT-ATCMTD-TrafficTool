{
 "cells": [
  {
   "cell_type": "code",
   "execution_count": 2,
   "id": "c49eb83a",
   "metadata": {},
   "outputs": [],
   "source": [
    "import numpy as np\n",
    "import json"
   ]
  },
  {
   "cell_type": "code",
   "execution_count": 3,
   "id": "53087408",
   "metadata": {},
   "outputs": [
    {
     "name": "stdout",
     "output_type": "stream",
     "text": [
      "[[ 2.  2.  7.  7.  8.  8. 10. 10. 10. 10.  9.  9.  2.  2.]\n",
      " [ 2.  2.  7.  7.  8.  8. 10. 10. 10. 10.  9.  9.  2.  2.]\n",
      " [ 7.  7.  8.  8.  3.  3.  2.  2.  3.  3.  7.  7.  6.  6.]\n",
      " [ 7.  7.  8.  8.  3.  3.  2.  2.  3.  3.  7.  7.  6.  6.]\n",
      " [ 5.  5.  6.  6.  2.  2.  3.  3.  5.  5.  8.  8.  5.  5.]\n",
      " [ 5.  5.  6.  6.  2.  2.  3.  3.  5.  5.  8.  8.  5.  5.]\n",
      " [ 3.  3.  5.  5.  4.  4.  8.  8.  8.  8.  8.  8.  3.  3.]\n",
      " [ 3.  3.  5.  5.  4.  4.  8.  8.  8.  8.  8.  8.  3.  3.]\n",
      " [ 4.  4.  5.  5.  4.  4.  4.  4.  2.  2.  7.  7.  7.  7.]\n",
      " [ 4.  4.  5.  5.  4.  4.  4.  4.  2.  2.  7.  7.  7.  7.]\n",
      " [ 6.  6.  6.  6.  1.  1.  2.  2.  3.  3.  8.  8.  6.  6.]\n",
      " [ 6.  6.  6.  6.  1.  1.  2.  2.  3.  3.  8.  8.  6.  6.]\n",
      " [ 1.  1.  8.  8.  9.  9.  9.  9.  9.  9.  8.  8.  2.  2.]\n",
      " [ 1.  1.  8.  8.  9.  9.  9.  9.  9.  9.  8.  8.  2.  2.]]\n"
     ]
    }
   ],
   "source": [
    "file = open(\"numsPixelReference.txt\")\n",
    "file_text = \"\".join(file.readlines())\n",
    "file_text.split(\"\\n\\n\")\n",
    "nums = file_text.split(\"\\n\\n\")\n",
    "nums = [l.split(\"\\n\") for l in nums]\n",
    "\n",
    "for i in range(len(nums)):\n",
    "    nums[i][0] = nums[i][0][1:]\n",
    "    nums[i][len(nums[i]) - 1] = nums[i][len(nums[i]) - 1][:-1]\n",
    "#     nums[i] = nums[i][:-1]\n",
    "    \n",
    "    for j in range(len(nums[i])):\n",
    "        nums[i][j] = nums[i][j].replace(\".\", \",\").replace(\" \", \"\")\n",
    "        nums[i][j] = nums[i][j][:-2] + nums[i][j][-1:]\n",
    "        nums[i][j] = json.loads(nums[i][j])\n",
    "    \n",
    "nums = np.array(nums)\n",
    "\n",
    "print(sum_mat)"
   ]
  },
  {
   "cell_type": "code",
   "execution_count": 139,
   "id": "49da97bb",
   "metadata": {},
   "outputs": [],
   "source": [
    "def sumMatrix(mats):\n",
    "    result = np.zeros((14,14))\n",
    "    for mat in mats:\n",
    "        result = np.add(result, mat)\n",
    "    return result\n",
    "\n",
    "def mask(mat, num):\n",
    "    def vct(num, target):\n",
    "        if num != target:\n",
    "            return 0\n",
    "        else:\n",
    "            return num\n",
    "    \n",
    "    return np.vectorize(vct)(mat, num)\n",
    "\n",
    "# mask(sum_mat, 5)\n",
    "\n",
    "def split(mat, row, col):\n",
    "    l1 = []\n",
    "    l2 = []\n",
    "    \n",
    "    for m in mat:\n",
    "        if m[row][col] == 0:\n",
    "            l1.append(m)\n",
    "        else:\n",
    "            l2.append(m)\n",
    "    \n",
    "    return l1, l2\n",
    "\n",
    "# sum_mat[5][8]\n",
    "\n",
    "l1_0, l1_1 =  split(nums, 5, 8)\n",
    "\n",
    "# print(sumMatrix(l1_0))\n",
    "l2_0, l2_1  = split(l1_0, 7, 3) # 2, 3 | 6, 8, 9\n",
    "\n",
    "l2_2, l2_3 = split(l1_1, 7, 3) # 1, 5, 7 | 0, 4\n",
    "\n",
    "# print(mask(sumMatrix(l2_1), 1))\n",
    "# print(mask(sumMatrix(l2_2), 1))\n",
    "# print()\n",
    "# print(mask(sumMatrix(l2_1), 1) + mask(sumMatrix(l2_2), 1))\n",
    "\n",
    "# mask(sumMatrix(l2_1), 2) + mask(sumMatrix(l2_2), 1)\n",
    "# mask(sumMatrix(l2_1), 1) + mask(sumMatrix(l2_2), 2)\n",
    "# mask(sumMatrix(l2_1), 2) + mask(sumMatrix(l2_2), 2)\n",
    "\n",
    "l3_0, l3_1 = split(l2_0, 10, 9) # 2, 3 |\n",
    "l3_2, l3_3 = split(l2_1, 10, 9) # 6, 8 | 9\n",
    "l3_4, l3_5 = split(l2_2, 10, 9) # 5, 7 | 1\n",
    "l3_6, l3_7 = split(l2_3, 10, 9) # 0 | 4\n",
    "\n",
    "# print(mask(sumMatrix(l3_0), 1))\n",
    "# print()\n",
    "# print(mask(sumMatrix(l3_2), 1))# + \n",
    "# print()\n",
    "# print(mask(sumMatrix(l3_4), 1))\n",
    "# print(mask(mask(sumMatrix(l3_2), 1) + mask(sumMatrix(l3_4), 1), 2))\n",
    "\n",
    "l4_0, l4_1 = split(l3_0, 2, 11) # | 2, 3\n",
    "l4_2, l4_3 = split(l3_1, 2, 11) # |\n",
    "l4_4, l4_5 = split(l3_2, 2, 11) # 6 | 8\n",
    "l4_6, l4_7 = split(l3_3, 2, 11) # | 9 \n",
    "l4_8, l4_9 = split(l3_4, 2, 11) # 5 | 7\n",
    "l4_10, l4_11 = split(l3_5, 2, 11) # 1 | \n",
    "l4_12, l4_13 = split(l3_6, 2, 11) # | 0\n",
    "l4_14, l4_15 = split(l3_7, 2, 11) # | 4\n",
    "\n",
    "l5_0, l5_1 = split(l4_1, 8, 5) # 3 | 2"
   ]
  },
  {
   "cell_type": "code",
   "execution_count": 165,
   "id": "18693513",
   "metadata": {},
   "outputs": [
    {
     "data": {
      "text/plain": [
       "8"
      ]
     },
     "execution_count": 165,
     "metadata": {},
     "output_type": "execute_result"
    }
   ],
   "source": [
    "pixelRef = {\n",
    "    \"[1, 1, 0, 1, 1]\": 0,\n",
    "    \"[1, 0, 1, 0, 0]\": 1,\n",
    "    \"[0, 0, 0, 1, 1]\": 2,\n",
    "    \"[0, 0, 0, 1, 0]\": 3,\n",
    "    \"[1, 1, 1, 1, 1]\": 4,\n",
    "    \"[1, 0, 0, 0, 0]\": 5,\n",
    "    \"[0, 1, 0, 0, 0]\": 6,\n",
    "    \"[1, 0, 0, 1, 1]\": 7,\n",
    "    \"[0, 1, 0, 1, 0]\": 8,\n",
    "    \"[0, 1, 1, 1, 0]\": 9\n",
    "}\n",
    "\n",
    "id_pixels = [(5, 8), (7, 3), (10, 9), (2, 11), (8, 5)]\n",
    "\n",
    "def findNum(mat):\n",
    "    pixKey = str([mat[px[0]][px[1]] for px in id_pixels])\n",
    "    if pixKey in pixelRef:\n",
    "        return pixelRef[pixKey]\n",
    "\n",
    "findNum(nums[8])"
   ]
  },
  {
   "cell_type": "code",
   "execution_count": null,
   "id": "0216d665",
   "metadata": {},
   "outputs": [],
   "source": []
  }
 ],
 "metadata": {
  "kernelspec": {
   "display_name": "Python 3",
   "language": "python",
   "name": "python3"
  },
  "language_info": {
   "codemirror_mode": {
    "name": "ipython",
    "version": 3
   },
   "file_extension": ".py",
   "mimetype": "text/x-python",
   "name": "python",
   "nbconvert_exporter": "python",
   "pygments_lexer": "ipython3",
   "version": "3.8.6"
  }
 },
 "nbformat": 4,
 "nbformat_minor": 5
}
