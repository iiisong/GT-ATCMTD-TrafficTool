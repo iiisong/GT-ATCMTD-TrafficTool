{
 "cells": [
  {
   "cell_type": "code",
   "execution_count": 1,
   "id": "9ce653b0",
   "metadata": {},
   "outputs": [],
   "source": [
    "from tkinter import *\n",
    "from tkinter import ttk\n",
    "import cv2\n",
    "import numpy as np\n",
    "from datetime import date, datetime, time, timedelta\n",
    "from PIL import Image, ImageTk"
   ]
  },
  {
   "cell_type": "code",
   "execution_count": 25,
   "id": "2aa0ce84",
   "metadata": {},
   "outputs": [],
   "source": [
    "source = \"..\\\\vids\\\\TLC00024.mp4\"\n",
    "cap = cv2.VideoCapture(source)\n",
    "frame_count = int(cap.get(cv2.CAP_PROP_FRAME_COUNT))\n",
    "cap.set(1, 0)\n",
    "frame = cap.read()[1]\n",
    "cv2.imshow(\"unnamed\", frame)  # show frame on window\n",
    "cv2.waitKey(0)\n",
    "\n",
    "empty = cv2.imread(\"..\\\\vid\")\n",
    "\n",
    "# closing all open windowsgr\n",
    "cv2.destroyAllWindows()"
   ]
  },
  {
   "cell_type": "code",
   "execution_count": null,
   "id": "22ea3dea",
   "metadata": {},
   "outputs": [],
   "source": []
  }
 ],
 "metadata": {
  "kernelspec": {
   "display_name": "Python 3",
   "language": "python",
   "name": "python3"
  },
  "language_info": {
   "codemirror_mode": {
    "name": "ipython",
    "version": 3
   },
   "file_extension": ".py",
   "mimetype": "text/x-python",
   "name": "python",
   "nbconvert_exporter": "python",
   "pygments_lexer": "ipython3",
   "version": "3.8.6"
  }
 },
 "nbformat": 4,
 "nbformat_minor": 5
}
