{
 "cells": [
  {
   "cell_type": "code",
   "execution_count": 4,
   "id": "4a3e956c",
   "metadata": {},
   "outputs": [],
   "source": [
    "from tkinter import *\n",
    "from tkinter import ttk\n",
    "import cv2\n",
    "import numpy as np\n",
    "from datetime import date, datetime, time, timedelta\n",
    "from PIL import Image, ImageTk"
   ]
  },
  {
   "cell_type": "code",
   "execution_count": 5,
   "id": "40a9b7b2",
   "metadata": {},
   "outputs": [
    {
     "name": "stdout",
     "output_type": "stream",
     "text": [
      "304 304\n"
     ]
    },
    {
     "ename": "NameError",
     "evalue": "name 'test_frame' is not defined",
     "output_type": "error",
     "traceback": [
      "\u001b[1;31m---------------------------------------------------------------------------\u001b[0m",
      "\u001b[1;31mNameError\u001b[0m                                 Traceback (most recent call last)",
      "\u001b[1;32m<ipython-input-5-64c8c35cc66c>\u001b[0m in \u001b[0;36m<module>\u001b[1;34m\u001b[0m\n\u001b[0;32m     24\u001b[0m \u001b[1;31m#     print(\"Can't receive frame (stream end?). Exiting ...\")\u001b[0m\u001b[1;33m\u001b[0m\u001b[1;33m\u001b[0m\u001b[1;33m\u001b[0m\u001b[0m\n\u001b[0;32m     25\u001b[0m \u001b[0mprint\u001b[0m\u001b[1;33m(\u001b[0m\u001b[0mcanvas\u001b[0m\u001b[1;33m.\u001b[0m\u001b[0mwinfo_width\u001b[0m\u001b[1;33m(\u001b[0m\u001b[1;33m)\u001b[0m\u001b[1;33m,\u001b[0m \u001b[0mcanvas\u001b[0m\u001b[1;33m.\u001b[0m\u001b[0mwinfo_height\u001b[0m\u001b[1;33m(\u001b[0m\u001b[1;33m)\u001b[0m\u001b[1;33m)\u001b[0m\u001b[1;33m\u001b[0m\u001b[1;33m\u001b[0m\u001b[0m\n\u001b[1;32m---> 26\u001b[1;33m \u001b[0mimg\u001b[0m \u001b[1;33m=\u001b[0m \u001b[0mImageTk\u001b[0m\u001b[1;33m.\u001b[0m\u001b[0mPhotoImage\u001b[0m\u001b[1;33m(\u001b[0m\u001b[0mImage\u001b[0m\u001b[1;33m.\u001b[0m\u001b[0mfromarray\u001b[0m\u001b[1;33m(\u001b[0m\u001b[0mtest_frame\u001b[0m\u001b[1;33m)\u001b[0m\u001b[1;33m.\u001b[0m\u001b[0mresize\u001b[0m\u001b[1;33m(\u001b[0m\u001b[1;33m(\u001b[0m\u001b[0mmainframe\u001b[0m\u001b[1;33m.\u001b[0m\u001b[0mwinfo_width\u001b[0m\u001b[1;33m(\u001b[0m\u001b[1;33m)\u001b[0m\u001b[1;33m,\u001b[0m \u001b[0mmainframe\u001b[0m\u001b[1;33m.\u001b[0m\u001b[0mwinfo_height\u001b[0m\u001b[1;33m(\u001b[0m\u001b[1;33m)\u001b[0m\u001b[1;33m)\u001b[0m\u001b[1;33m)\u001b[0m\u001b[1;33m)\u001b[0m\u001b[1;33m\u001b[0m\u001b[1;33m\u001b[0m\u001b[0m\n\u001b[0m\u001b[0;32m     27\u001b[0m \u001b[1;33m\u001b[0m\u001b[0m\n\u001b[0;32m     28\u001b[0m \u001b[0mprint\u001b[0m\u001b[1;33m(\u001b[0m\u001b[0mcanvas\u001b[0m\u001b[1;33m.\u001b[0m\u001b[0mwinfo_width\u001b[0m\u001b[1;33m(\u001b[0m\u001b[1;33m)\u001b[0m\u001b[1;33m,\u001b[0m \u001b[0mcanvas\u001b[0m\u001b[1;33m.\u001b[0m\u001b[0mwinfo_height\u001b[0m\u001b[1;33m(\u001b[0m\u001b[1;33m)\u001b[0m\u001b[1;33m)\u001b[0m\u001b[1;33m\u001b[0m\u001b[1;33m\u001b[0m\u001b[0m\n",
      "\u001b[1;31mNameError\u001b[0m: name 'test_frame' is not defined"
     ]
    }
   ],
   "source": [
    "root = Tk()\n",
    "root.rowconfigure(0,weight=1)\n",
    "root.columnconfigure(0,weight=1)\n",
    "root.geometry(\"700x500\")\n",
    "\n",
    "root.title(\"Traffic Interface\")\n",
    "\n",
    "mainframe = ttk.Frame(root)\n",
    "mainframe.grid(sticky=[N, S, E, W])\n",
    "\n",
    "left_panel = ttk.Frame(mainframe)\n",
    "left_panel.grid(row=0,column=0)\n",
    "\n",
    "right_panel = ttk.Frame(mainframe, relief=\"raised\")\n",
    "right_panel.grid(row=0, column=1)\n",
    "\n",
    "\n",
    "canvas = Canvas(right_panel, width=300, height=300)  \n",
    "canvas.pack(fill=\"both\", expand=True)\n",
    "canvas.update()\n",
    "\n",
    "# ret, frame = cap.read()\n",
    "# if not ret:\n",
    "#     print(\"Can't receive frame (stream end?). Exiting ...\")\n",
    "print(canvas.winfo_width(), canvas.winfo_height())\n",
    "img = ImageTk.PhotoImage(Image.fromarray(test_frame).resize((mainframe.winfo_width(), mainframe.winfo_height())))\n",
    "\n",
    "print(canvas.winfo_width(), canvas.winfo_height())\n",
    "\n",
    "label = Label(canvas, image=img).grid(row=0, column=0, sticky=E)\n",
    "# label.pack()\n",
    "\n",
    "for i in range(3):\n",
    "    for j in range(3):\n",
    "        frame = ttk.Frame(\n",
    "            master=left_panel,\n",
    "            relief=\"raised\",\n",
    "            borderwidth=1\n",
    "        )\n",
    "        frame.grid(row=i, column=j)\n",
    "        label = ttk.Label(master=frame, text=f\"Row {i}\\nColumn {j}\")\n",
    "        label.pack()\n",
    "\n",
    "root.mainloop()"
   ]
  },
  {
   "cell_type": "code",
   "execution_count": 2,
   "id": "ad71ad0f",
   "metadata": {},
   "outputs": [
    {
     "ename": "AttributeError",
     "evalue": "'NoneType' object has no attribute 'shape'",
     "output_type": "error",
     "traceback": [
      "\u001b[1;31m---------------------------------------------------------------------------\u001b[0m",
      "\u001b[1;31mAttributeError\u001b[0m                            Traceback (most recent call last)",
      "\u001b[1;32m<ipython-input-2-44d4fd4fa662>\u001b[0m in \u001b[0;36m<module>\u001b[1;34m\u001b[0m\n\u001b[0;32m      3\u001b[0m \u001b[0mframe_count\u001b[0m \u001b[1;33m=\u001b[0m \u001b[0mint\u001b[0m\u001b[1;33m(\u001b[0m\u001b[0mcap\u001b[0m\u001b[1;33m.\u001b[0m\u001b[0mget\u001b[0m\u001b[1;33m(\u001b[0m\u001b[0mcv2\u001b[0m\u001b[1;33m.\u001b[0m\u001b[0mCAP_PROP_FRAME_COUNT\u001b[0m\u001b[1;33m)\u001b[0m\u001b[1;33m)\u001b[0m\u001b[1;33m\u001b[0m\u001b[1;33m\u001b[0m\u001b[0m\n\u001b[0;32m      4\u001b[0m \u001b[1;33m\u001b[0m\u001b[0m\n\u001b[1;32m----> 5\u001b[1;33m \u001b[0mdim\u001b[0m \u001b[1;33m=\u001b[0m \u001b[0mcap\u001b[0m\u001b[1;33m.\u001b[0m\u001b[0mread\u001b[0m\u001b[1;33m(\u001b[0m\u001b[1;33m)\u001b[0m\u001b[1;33m[\u001b[0m\u001b[1;36m1\u001b[0m\u001b[1;33m]\u001b[0m\u001b[1;33m.\u001b[0m\u001b[0mshape\u001b[0m\u001b[1;33m\u001b[0m\u001b[1;33m\u001b[0m\u001b[0m\n\u001b[0m",
      "\u001b[1;31mAttributeError\u001b[0m: 'NoneType' object has no attribute 'shape'"
     ]
    }
   ],
   "source": [
    "source = \"vids\\TLC00011.mp4\"\n",
    "cap = cv2.VideoCapture(source)\n",
    "frame_count = int(cap.get(cv2.CAP_PROP_FRAME_COUNT))\n",
    "\n",
    "dim = cap.read()[1].shape"
   ]
  },
  {
   "cell_type": "code",
   "execution_count": 9,
   "id": "14a940be",
   "metadata": {},
   "outputs": [
    {
     "data": {
      "text/plain": [
       "(720, 1280, 3)"
      ]
     },
     "execution_count": 9,
     "metadata": {},
     "output_type": "execute_result"
    }
   ],
   "source": [
    "dim"
   ]
  },
  {
   "cell_type": "code",
   "execution_count": 6,
   "id": "14071bd7",
   "metadata": {},
   "outputs": [],
   "source": [
    "nums_y_loc = 704\n",
    "num_height = 13\n",
    "num_width = 13\n",
    "\n",
    "# x pixel of 10s and 1s digit respectively\n",
    "hours_x = 752, 768 \n",
    "mins_x = 800, 816\n",
    "secs_x = 848, 864\n",
    "\n",
    "years_x = 576, 592, 608, 624\n",
    "months_x = 656, 672\n",
    "days_x = 704, 720\n",
    "\n",
    "numRef = {\n",
    "    '[10, 10, 13, 13, 7, 7, 7, 7, 7, 7, 13, 13, 10]': 0,\n",
    "    '[0, 0, 1, 1, 3, 3, 13, 13, 13, 13, 1, 1, 1]':  1,\n",
    "    '[5, 5, 9, 9, 5, 5, 7, 7, 5, 5, 11, 11, 7]': 2,\n",
    "    '[4, 4, 7, 7, 3, 3, 5, 5, 5, 5, 13, 13, 8]' : 3,\n",
    "    '[4, 4, 6, 6, 6, 6, 6, 6, 13, 13, 13, 13, 2]' : 4,\n",
    "    '[8, 8, 9, 9, 5, 5, 5, 5, 5, 5, 11, 11, 8]': 5,\n",
    "    '[8, 8, 11, 11, 7, 7, 5, 5, 5, 5, 9, 9, 4]': 6,\n",
    "    '[4, 4, 4, 4, 7, 7, 9, 9, 6, 6, 6, 6, 4]': 7, \n",
    "    '[8, 8, 13, 13, 5, 5, 5, 5, 5, 5, 13, 13, 8]': 8,\n",
    "    '[4, 4, 9, 9, 5, 5, 5, 5, 7, 7, 12, 12, 8]': 9,\n",
    "}\n"
   ]
  },
  {
   "cell_type": "code",
   "execution_count": 4,
   "id": "cd045a69",
   "metadata": {},
   "outputs": [],
   "source": [
    "def showFrame(frame, show, title=\"Unnamed Frame\"):\n",
    "    \"\"\"Show the frame in question if show is true for debugging.\n",
    "\n",
    "    If show is false, does nothing.\n",
    "    If show is true, shows frame as an external window until a keypress is recorded.\n",
    "\n",
    "    Args:\n",
    "        frame: frame to show.\n",
    "        title: title of the frame to show. Defaults to \"Unnamed Frame\"\n",
    "        show: determines whether to show or to skip\n",
    "\n",
    "    Returns:\n",
    "        Nothing\n",
    "\n",
    "    Raises:\n",
    "    \"\"\"\n",
    "    \n",
    "    if (show):\n",
    "        cv2.imshow(title, frame)  # show frame on window\n",
    "        cv2.waitKey(0)\n",
    "\n",
    "        # closing all open windows\n",
    "        cv2.destroyAllWindows()\n",
    "\n",
    "def getFrame(frame_num, cap=cap, show=False):\n",
    "    \"\"\"Retrieves the frame from the video\n",
    "\n",
    "    Retrieve the indexed frame from the video and return it as an image of an numpy array.\n",
    "\n",
    "    Args:\n",
    "        frame_num: index of the frame to show.\n",
    "        cap: capture to find the frame of, defaults to cap defined above\n",
    "        show: determines whether to show or to skip, defaults to noshow\n",
    "\n",
    "    Returns:\n",
    "        numpy image array of the frame\n",
    "\n",
    "    Raises:\n",
    "        Exception: frame_num({frame_num}) cannot equal or exceed number of frames({frame_count})\n",
    "    \"\"\"\n",
    "    \n",
    "    if (frame_num >= frame_count): \n",
    "        raise Exception(f\"frame_num({frame_num}) cannot equal or exceed number of frames({frame_count})\") \n",
    "    \n",
    "    cap.set(1,frame_num)  # Where frame_no is the frame you want\n",
    "    ret, frame = cap.read()  # Read the frame\n",
    "    \n",
    "    showFrame(frame, show, title=\"frame\")\n",
    "    \n",
    "    return frame\n",
    "\n",
    "def getNum(frame, xcoord, ycoord=nums_y_loc, show=False):\n",
    "    \"\"\"Retrieves a number from the video\n",
    "\n",
    "    Identify the number from a coordinate specified in the video and return it as a integer.\n",
    "\n",
    "    Args:\n",
    "        frame: numpy array image to identify.\n",
    "        xcoord: x coordinate of the top-left pixel of the number\n",
    "        ycoord: y coordinate of the top-left pixel, defaults to the nums_y_loc\n",
    "        show: determines whether to show or to skip, defaults to noshow\n",
    "\n",
    "    Returns:\n",
    "        integer at that location, -1 if invalid\n",
    "    \"\"\"\n",
    "    print(\"get num start\")\n",
    "    gray = np.around(cv2.cvtColor(frame, cv2.COLOR_BGR2GRAY) / 255)\n",
    "    print(\"to gray\")\n",
    "    num_crop = gray[ycoord : ycoord + num_width, xcoord : xcoord + num_width]\n",
    "    print(\"cropped\")\n",
    "    \n",
    "    showFrame(frame, show, title=\"cropped number\")\n",
    "        \n",
    "    hashed = str(list(sum(num_crop))).replace(\".0\", \"\")\n",
    "    \n",
    "    if (hashed not in numRef):\n",
    "        return -1\n",
    "        \n",
    "    return numRef[hashed]\n",
    "\n",
    "def getDate(frame, show=False):\n",
    "    years = 1000 * getNum(frame, years_x[0]) + 100 * getNum(frame, years_x[1]) + 10 * getNum(frame, years_x[2]) +  getNum(frame, years_x[3])\n",
    "    months = 10 * getNum(frame, months_x[0]) + getNum(frame, months_x[1])\n",
    "    days = 10 * getNum(frame, days_x[0]) + getNum(frame, days_x[1])\n",
    "    \n",
    "    dateCrop = frame[nums_y_loc : nums_y_loc + 13, years_x[0] : days_x[1] + 13]\n",
    "    showFrame(dateCrop, show, title=\"cropped date\")\n",
    "    \n",
    "    return datetime(years, months, days)\n",
    "    \n",
    "\n",
    "def getTime(frame, show=False):\n",
    "    hours = 10 * getNum(frame, hours_x[0]) + getNum(frame, hours_x[1])\n",
    "    mins = 10 * getNum(frame, mins_x[0]) + getNum(frame, mins_x[1])\n",
    "    secs = 10 * getNum(frame, secs_x[0]) + getNum(frame, secs_x[1])\n",
    "    \n",
    "    dateCrop = frame[nums_y_loc : nums_y_loc + 13, hours_x[0] : secs_x[1] + 13]\n",
    "    showFrame(dateCrop, show, title=\"cropped time\")\n",
    "    \n",
    "    return datetime.combine(datetime.today(), time(hours, mins, secs))\n",
    "\n",
    "def getDateTime(frame, show=False):\n",
    "    dateCrop = frame[nums_y_loc : nums_y_loc + 13, years_x[0] : secs_x[1] + 13]\n",
    "    showFrame(dateCrop, show, title=\"cropped datetime\")\n",
    "    \n",
    "    return datetime.combine(getDate(frame), getTime(frame).time())\n",
    "\n",
    "def getFPS(cap=cap):\n",
    "    init_time = getTime(getFrame(0))\n",
    "    j = 0;\n",
    "    while j < frame_count and getTime(getFrame(j)) == init_time: j += 1\n",
    "        \n",
    "    secCounter = 0\n",
    "    i = j\n",
    "     # start of the first sec\n",
    "    new_time = getTime(getFrame(j))\n",
    "    while secCounter < 4:\n",
    "        while i < frame_count and getTime(getFrame(i)) == new_time: i += 1 # start of the second second\n",
    "        new_time = getTime(getFrame(i))\n",
    "        secCounter += 1\n",
    "    \n",
    "    return (i - j)/4\n",
    "\n",
    "fps = 5 #getFPS()\n",
    "\n",
    "def getAccurateIndex(index, time, fps=fps, cap=cap):\n",
    "    while (getDateTime(getFrame(index)) >= time):\n",
    "        index -= 1\n",
    "    \n",
    "    while (getDateTime(getFrame(index)) < time):\n",
    "        index += 1\n",
    "    \n",
    "    return index\n",
    "\n",
    "def getFrameIndexOfTime(time, fps=fps, cap=cap):\n",
    "    init_time = getDateTime(getFrame(0))\n",
    "    time_delt = time - init_time\n",
    "    \n",
    "    if (time_delt.total_seconds() < 0): return -1\n",
    "    \n",
    "    jump_index = time_delt.total_seconds() * fps\n",
    "    return getAccurateIndex(jump_index, time)\n",
    "\n",
    "def getFrameAfterSeconds(secs, fps=fps, cap=cap):\n",
    "    return getFrameIndexOfTime(time)"
   ]
  },
  {
   "cell_type": "code",
   "execution_count": 5,
   "id": "c9f7f3d5",
   "metadata": {},
   "outputs": [],
   "source": [
    "test_frame = getFrame(0)"
   ]
  },
  {
   "cell_type": "code",
   "execution_count": 8,
   "id": "d7aef2bd",
   "metadata": {},
   "outputs": [
    {
     "data": {
      "text/plain": [
       "5.0"
      ]
     },
     "execution_count": 8,
     "metadata": {},
     "output_type": "execute_result"
    }
   ],
   "source": [
    "fps"
   ]
  },
  {
   "cell_type": "code",
   "execution_count": 6,
   "id": "003bfd09",
   "metadata": {},
   "outputs": [
    {
     "name": "stdout",
     "output_type": "stream",
     "text": [
      "2539.0\n"
     ]
    }
   ],
   "source": [
    "# getFPS()\n",
    "# init = getDateTime(getFrame(0), show=True)\n",
    "# later = getDateTime(getFrame(500), show=True)\n",
    "\n",
    "# print(init)\n",
    "# print(later)\n",
    "# print(later - init)\n",
    "# print(fps)\n",
    "# print(fps * (later - init).total_seconds())\n",
    "\n",
    "# getFrame(500, show=True)\n",
    "# getDate(getFrame(500))\n",
    "# jump_index = getFrameIndexOfTime(getDateTime(getFrame(2539)))\n",
    "print(jump_index)\n",
    "# getSecsElapsed()"
   ]
  },
  {
   "cell_type": "code",
   "execution_count": 3,
   "id": "1df2e805",
   "metadata": {},
   "outputs": [],
   "source": [
    "import tkinter as tk\n",
    "root = tk.Tk()\n",
    "w = tk.Entry(root)\n",
    "w.pack()\n",
    "root.mainloop()"
   ]
  },
  {
   "cell_type": "code",
   "execution_count": 5,
   "id": "0bfd0815",
   "metadata": {},
   "outputs": [
    {
     "name": "stdout",
     "output_type": "stream",
     "text": [
      "You clicked the button\n",
      "You clicked the button\n",
      "You clicked the button\n"
     ]
    }
   ],
   "source": [
    "import tkinter as tk\n",
    "\n",
    "root = tk.Tk()\n",
    "root.geometry(\"300x200\")\n",
    "\n",
    "def func(event):\n",
    "    print(\"You hit return.\")\n",
    "\n",
    "def onclick(event):\n",
    "    print(\"You clicked the button\")\n",
    "\n",
    "root.bind('<Return>', onclick)\n",
    "\n",
    "button = tk.Button(root, text=\"click me\")\n",
    "button.bind('<Button-1>', onclick)\n",
    "button.pack()\n",
    "\n",
    "root.mainloop()"
   ]
  },
  {
   "cell_type": "code",
   "execution_count": 23,
   "id": "1f87c406",
   "metadata": {},
   "outputs": [
    {
     "name": "stdout",
     "output_type": "stream",
     "text": [
      "d\n",
      "<KeyRelease event state=Mod1 keysym=d keycode=68 char='d' x=106 y=127>\n"
     ]
    }
   ],
   "source": [
    "from tkinter import *\n",
    "\n",
    "# def keydown(event):\n",
    "#     if not keyDown:\n",
    "#         print(event.keysym, event.keysym=='keypressed')\n",
    "#         print(event)\n",
    "#         keyDown = True\n",
    "    \n",
    "def keyup(event):\n",
    "    keyDown = False\n",
    "    print(event.keysym)\n",
    "    print(event)\n",
    "\n",
    "root = Tk()\n",
    "\n",
    "keyDown = True\n",
    "# root.bind(\"<KeyPress>\", keydown)\n",
    "root.bind(\"<KeyRelease>\", keyup)\n",
    "root.mainloop()"
   ]
  },
  {
   "cell_type": "code",
   "execution_count": null,
   "id": "81b021df",
   "metadata": {},
   "outputs": [],
   "source": []
  },
  {
   "cell_type": "code",
   "execution_count": 62,
   "id": "0cff3dc9",
   "metadata": {},
   "outputs": [],
   "source": [
    "import tkinter as tk\n",
    "root = tk.Tk()\n",
    "testFrame = tk.Frame(root)\n",
    "testFrame.pack(fill=tk.BOTH, expand=True)\n",
    "\n",
    "testFrame.rowconfigure(0,weight=1)\n",
    "testFrame.columnconfigure(0,weight=1)\n",
    "# testFrame.columnconfigure(1,weight=10)\n",
    "\n",
    "\n",
    "\n",
    "b = tk.Button(testFrame, text=\"Frame: \")\n",
    "\n",
    "def callback(P):\n",
    "    if str.isdigit(P) or P == \"\":\n",
    "        return True\n",
    "    else:\n",
    "        return False\n",
    "    \n",
    "w = tk.Entry(testFrame, width=5, validate='all', validatecommand=(testFrame.register(callback), '%P')) \n",
    "\n",
    "b.grid(row=0, column=0, sticky=\"nsew\")\n",
    "w.grid(row=0, column=1, sticky=\"nsew\")\n",
    "root.mainloop()"
   ]
  },
  {
   "cell_type": "code",
   "execution_count": 46,
   "id": "3bbf6443",
   "metadata": {},
   "outputs": [
    {
     "name": "stdout",
     "output_type": "stream",
     "text": [
      "3\n"
     ]
    }
   ],
   "source": [
    "try:\n",
    "    print(int('3'))\n",
    "except:\n",
    "    print(\"invalid\")"
   ]
  },
  {
   "cell_type": "code",
   "execution_count": 7,
   "id": "1dda515d",
   "metadata": {},
   "outputs": [
    {
     "name": "stdout",
     "output_type": "stream",
     "text": [
      "here!\n",
      "<ButtonPress event state=Mod1 num=1 x=4 y=0>\n",
      "<ButtonPress event state=Mod1 num=1 x=2 y=10>\n",
      "<ButtonPress event state=Mod1 num=1 x=2 y=14>\n",
      "<ButtonPress event state=Mod1 num=1 x=5 y=14>\n",
      "<ButtonPress event state=Mod1 num=1 x=5 y=16>\n"
     ]
    }
   ],
   "source": [
    "import tkinter as tk\n",
    "\n",
    "class testPanel(tk.Frame):\n",
    "    def __init__(self, parent):\n",
    "        super().__init__()\n",
    "        testlabel1 = tk.Label(self, bg=\"red\")\n",
    "        testlabel1.grid(row=0, column=0)\n",
    "        testlabel1.bind(\"<Button-1>\", self.click)\n",
    "        testlabel0 = tk.Label(self, bg=\"green\")\n",
    "        testlabel0.grid(row=0, column=0)\n",
    "        testlabel0.bind(\"<Button-1>\", self.click)\n",
    "        print(\"here!\")\n",
    "    \n",
    "    def click(self, event):\n",
    "        print(event)\n",
    "\n",
    "if __name__ == \"__main__\":\n",
    "    root =  tk.Tk()\n",
    "#     root.geometry(\"500x300\")\n",
    "    \n",
    "    tp = testPanel(root)\n",
    "    tp.pack()\n",
    "    \n",
    "    root.mainloop()\n",
    "    "
   ]
  },
  {
   "cell_type": "code",
   "execution_count": 2,
   "id": "bb63ac66",
   "metadata": {},
   "outputs": [
    {
     "name": "stdout",
     "output_type": "stream",
     "text": [
      "0 0\n",
      "here!\n",
      "here!\n",
      "<ButtonPress event state=Mod1 num=1 x=11 y=7>\n",
      "11 -17\n",
      "<ButtonPress event state=Mod1 num=1 x=3 y=26>\n",
      "3 2\n",
      "<ButtonPress event state=Mod1 num=1 x=366 y=1>\n",
      "366 -23\n"
     ]
    }
   ],
   "source": [
    "import tkinter as tk\n",
    "from PIL import Image, ImageTk, ImageOps\n",
    "\n",
    "class testPanel(tk.Frame):\n",
    "    def __init__(self, parent):\n",
    "        super().__init__()\n",
    "        self.testcanvas = tk.Canvas(self, bg=\"red\")\n",
    "        self.testcanvas.grid(row=0, column=0)\n",
    "        self.rowconfigure(0, weight=1)\n",
    "        self.columnconfigure(0, weight=1)\n",
    "        print(self.testcanvas.winfo_width() // 2, self.testcanvas.winfo_height() // 2)\n",
    "        self.img = Image.open(\"..\\\\map.png\")\n",
    "        \n",
    "#         self.img.show()\n",
    "        self.image = ImageTk.PhotoImage(self.img)\n",
    "        self.curr_img = self.image\n",
    "        self.create_image = self.testcanvas.create_image(self.testcanvas.winfo_width() // 2, \n",
    "                                                         self.testcanvas.winfo_height() // 2,\n",
    "                                                         image=self.image)\n",
    "        self.testcanvas.bind(\"<Button-1>\", self.click)\n",
    "        print(\"here!\")\n",
    "        \n",
    "        self.testcanvas.bind(\"<Configure>\", self._resize_image) # make vid frame dynamic\n",
    "        self.curr_image = None\n",
    "    \n",
    "    def click(self, event):\n",
    "        print(event)\n",
    "        print (event.x - self.testcanvas.winfo_width() // 2 + self.resized_tk.width() // 2, \n",
    "               event.y - self.testcanvas.winfo_height() // 2 + self.resized_tk.height() // 2, )\n",
    "        \n",
    "    def _resize_image(self, event):\n",
    "        print(\"here!\")\n",
    "        self.testcanvas.update()\n",
    "        self.vid_frame_dims = event.width, event.height\n",
    "#             ratio = (self.dims[0] / self.dims[1])\n",
    "        self.resized_image = ImageOps.contain(self.img.copy(), (self.vid_frame_dims[0], self.vid_frame_dims[1]))\n",
    "        self.resized_image.resize((self.vid_frame_dims[0], self.vid_frame_dims[1]))\n",
    "#         self.resized_image.show()\n",
    "        self.resized_tk = ImageTk.PhotoImage(self.resized_image.convert(mode=\"RGBA\"))\n",
    "        self.curr_image = self.resized_tk\n",
    "        self.testcanvas.itemconfig(self.create_image, image=self.resized_tk)\n",
    "        self.testcanvas.coords(self.create_image, self.vid_frame_dims[0] // 2, self.vid_frame_dims[1] // 2)\n",
    "\n",
    "if __name__ == \"__main__\":\n",
    "    root =  tk.Tk()\n",
    "#     root.geometry(\"500x300\")\n",
    "\n",
    "    root.rowconfigure(0,weight=1)\n",
    "    root.columnconfigure(0,weight=1)\n",
    "    \n",
    "    tp = testPanel(root)\n",
    "    tp.pack()\n",
    "    \n",
    "    root.mainloop()\n",
    "    "
   ]
  },
  {
   "cell_type": "code",
   "execution_count": 1,
   "id": "038cebcc",
   "metadata": {},
   "outputs": [],
   "source": [
    "import tkinter as tk\n",
    "from tkinter import Tk, ttk\n",
    "\n",
    "header = [\"Time\", \"L1\", \"L2\", \"L3\", \"L4\", \"L5\", \"L6\", \"L7\"]\n",
    "position_list = []\n",
    "position_frame_list = []\n",
    "\n",
    "fill=tk.BOTH\n",
    "expand=True\n",
    "\n",
    "root = Tk()\n",
    "\n",
    "# input panel\n",
    "inputBox = ttk.Frame(master=root)\n",
    "inputBox.pack()\n",
    "\n",
    "# entry panel\n",
    "entryBox = ttk.Frame(master=root)\n",
    "entryBox.pack(side=\"bottom\")\n",
    "\n",
    "# create input lanes rows \n",
    "for i in range(6):\n",
    "    # create vertical header\n",
    "    position_frame_list.append(ttk.Frame(\n",
    "        master=root,\n",
    "        borderwidth=3\n",
    "    ))\n",
    "    position_frame_list[i].pack(fill=fill, expand=expand)\n",
    "\n",
    "    position_list.append((tk.Label(master=position_frame_list[i], \n",
    "                                   text=header[i + 1]),\n",
    "                          tk.Label(master=position_frame_list[i],\n",
    "                                   text=\"None\\t\"),\n",
    "                          tk.Button(master=position_frame_list[i],\n",
    "                                   text=\"Set\")))\n",
    "    position_list[i][0].pack(fill=fill, expand=expand, side=\"left\")\n",
    "    position_list[i][1].pack(fill=fill, expand=expand, side=\"left\")\n",
    "    position_list[i][2].pack(fill=fill, expand=expand, side=\"left\")\n",
    "\n",
    "# create entry box\n",
    "frame = ttk.Frame(\n",
    "            master=root,\n",
    "            relief=\"raised\",\n",
    "            borderwidth=1,\n",
    "        )\n",
    "\n",
    "frame.pack(fill=fill, expand=expand, side=\"bottom\")\n",
    "\n",
    "entryButton = tk.Button(master=frame, \n",
    "                        text=f\"Enter Entry\",\n",
    "                        font='sans 10',\n",
    "                        state=\"disabled\")\n",
    "entryButton.pack(fill=fill, expand=expand)\n",
    "\n",
    "root.mainloop()"
   ]
  },
  {
   "cell_type": "code",
   "execution_count": 9,
   "id": "f0bffaf7",
   "metadata": {},
   "outputs": [
    {
     "data": {
      "text/plain": [
       "0.05"
      ]
     },
     "execution_count": 9,
     "metadata": {},
     "output_type": "execute_result"
    }
   ],
   "source": [
    "from datetime import timedelta\n",
    "td = timedelta(milliseconds=10)\n",
    "td.total_seconds() * 5"
   ]
  },
  {
   "cell_type": "code",
   "execution_count": null,
   "id": "b4927409",
   "metadata": {},
   "outputs": [],
   "source": []
  }
 ],
 "metadata": {
  "kernelspec": {
   "display_name": "Python 3",
   "language": "python",
   "name": "python3"
  },
  "language_info": {
   "codemirror_mode": {
    "name": "ipython",
    "version": 3
   },
   "file_extension": ".py",
   "mimetype": "text/x-python",
   "name": "python",
   "nbconvert_exporter": "python",
   "pygments_lexer": "ipython3",
   "version": "3.8.6"
  }
 },
 "nbformat": 4,
 "nbformat_minor": 5
}
