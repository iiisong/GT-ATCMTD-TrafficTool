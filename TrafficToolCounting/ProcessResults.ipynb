{
 "cells": [
  {
   "cell_type": "code",
   "execution_count": 14,
   "metadata": {},
   "outputs": [],
   "source": [
    "import os\n",
    "import pandas as pd"
   ]
  },
  {
   "cell_type": "code",
   "execution_count": 60,
   "metadata": {},
   "outputs": [],
   "source": [
    "pd.set_option('display.max_rows', 500)\n",
    "pd.set_option('display.max_columns', 500)\n",
    "pd.set_option('display.width', 1000)\n",
    "\n",
    "pd.options.mode.chained_assignment = None"
   ]
  },
  {
   "cell_type": "code",
   "execution_count": 79,
   "metadata": {},
   "outputs": [],
   "source": [
    "def process_result(dir, to_file=True, show_output=False)->pd.DataFrame:\n",
    "    '''Forward fill result data\n",
    "    \n",
    "    Params:\n",
    "        dir: directory of input excel file\n",
    "        to_file: write to output file (default True)\n",
    "        show_output: display output df (default False)\n",
    "    \n",
    "    Returns:\n",
    "        dataframe (when show_output True)\n",
    "    '''\n",
    "\n",
    "    df = pd.read_excel(dir)\n",
    "    df['Time'] = pd.to_datetime(df['Time'])\n",
    "    df['Manual'] = 'T'\n",
    "    start_time = df['Time'].iloc[0]\n",
    "    end_time = df['Time'].iloc[-1]\n",
    "    seconds = (end_time - start_time).total_seconds()\n",
    "\n",
    "    result_df = pd.DataFrame(range(int(seconds) + 1), columns=[\"Time\"]) \n",
    "    result_df[\"Time\"] = pd.to_timedelta(result_df[\"Time\"], unit=\"S\") + start_time\n",
    "    result_df = result_df.merge(df, on=\"Time\", how=\"left\")\n",
    "    result_df[\"Manual\"].fillna(\"F\", inplace=True)\n",
    "    result_df.ffill(inplace=True)\n",
    "    result_df[\"Time\"] = result_df[\"Time\"].astype(str)\n",
    "\n",
    "    if to_file:\n",
    "        filename = os.path.basename(dir)\n",
    "        result_df.to_excel(f\"processed_results/{filename}\", index=False)\n",
    "\n",
    "    if show_output:\n",
    "        return result_df\n",
    "\n",
    "process_result(\"results/Q2_TLC00024_c.xlsx\")"
   ]
  },
  {
   "cell_type": "code",
   "execution_count": 88,
   "metadata": {},
   "outputs": [],
   "source": [
    "def process_data_folder(dir):\n",
    "    '''Process result on folder of data\n",
    "    \n",
    "    Params:\n",
    "        dir: directory of xlsx results\n",
    "    '''\n",
    "\n",
    "    for fname in os.listdir(dir):\n",
    "        fname = os.path.join(dir, fname)\n",
    "\n",
    "        if not os.path.isfile(fname): continue\n",
    "\n",
    "        process_result(fname)\n",
    "\n",
    "    \n",
    "process_data_folder(\"results\")\n"
   ]
  },
  {
   "cell_type": "code",
   "execution_count": null,
   "metadata": {},
   "outputs": [],
   "source": []
  }
 ],
 "metadata": {
  "kernelspec": {
   "display_name": "Python 3.9.6 64-bit",
   "language": "python",
   "name": "python3"
  },
  "language_info": {
   "codemirror_mode": {
    "name": "ipython",
    "version": 3
   },
   "file_extension": ".py",
   "mimetype": "text/x-python",
   "name": "python",
   "nbconvert_exporter": "python",
   "pygments_lexer": "ipython3",
   "version": "3.9.6"
  },
  "orig_nbformat": 4,
  "vscode": {
   "interpreter": {
    "hash": "31f2aee4e71d21fbe5cf8b01ff0e069b9275f58929596ceb00d14d90e3e16cd6"
   }
  }
 },
 "nbformat": 4,
 "nbformat_minor": 2
}
